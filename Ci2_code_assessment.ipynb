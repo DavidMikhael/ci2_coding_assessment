{
  "nbformat": 4,
  "nbformat_minor": 0,
  "metadata": {
    "colab": {
      "provenance": []
    },
    "kernelspec": {
      "name": "python3",
      "display_name": "Python 3"
    },
    "language_info": {
      "name": "python"
    }
  },
  "cells": [
    {
      "cell_type": "code",
      "execution_count": null,
      "metadata": {
        "id": "LYRzethQFk7N"
      },
      "outputs": [],
      "source": [
        "import numpy as np\n",
        "import matplotlib.pyplot as plt\n",
        "\n",
        "#loads the dataset\n",
        "chestmnist = np.load('ChestMNIST.npz', allow_pickle=True)\n",
        "\n",
        "#chooses an image\n",
        "selected_image = chestmnist['train_images'][0]\n",
        "\n",
        "#visualizes it\n",
        "plt.imshow(selected_image, cmap='gray')\n",
        "plt.show()"
      ]
    },
    {
      "cell_type": "code",
      "source": [
        "#inverts its contrast\n",
        "inverted_image = np.abs(selected_image - 255)\n",
        "\n",
        "#visualizes it\n",
        "plt.imshow(inverted_image, cmap='gray')\n",
        "plt.show()"
      ],
      "metadata": {
        "id": "d3tXxObMGnKy"
      },
      "execution_count": null,
      "outputs": []
    },
    {
      "cell_type": "code",
      "source": [
        "#applies a custom filter\n",
        "custom_filter = np.array([[0, 0, 0], [0, 1, 0], [0, 0, 0]])\n",
        "filtered_image = np.abs(selected_image - 255)\n",
        "for i in range(26):\n",
        "    for j in range(26):\n",
        "        filtered_image[i+1, j+1] = np.sum(custom_filter * selected_image[i:i+3, j:j+3])\n",
        "\n",
        "#visualizes the custom filtered image\n",
        "plt.imshow(filtered_image, cmap='gray')\n",
        "plt.show()"
      ],
      "metadata": {
        "id": "-_-bHS6XFyn_"
      },
      "execution_count": null,
      "outputs": []
    },
    {
      "cell_type": "markdown",
      "source": [
        "The second filter I implemented is a simple 3x3 filter that replaces the value of each pixel in the filtered image with the sum of the values of the corresponding 3x3 region of the original image, weighted by the values in the custom filter."
      ],
      "metadata": {
        "id": "1JQjMuqMF_DS"
      }
    }
  ]
}